{
  "nbformat": 4,
  "nbformat_minor": 0,
  "metadata": {
    "colab": {
      "provenance": []
    },
    "kernelspec": {
      "name": "python3",
      "display_name": "Python 3"
    },
    "language_info": {
      "name": "python"
    }
  },
  "cells": [
    {
      "cell_type": "code",
      "execution_count": 1,
      "metadata": {
        "colab": {
          "base_uri": "https://localhost:8080/"
        },
        "id": "OS1RgQrUBTJA",
        "outputId": "77fcfbde-e7a3-44b7-a8dc-715ee5feb4f9"
      },
      "outputs": [
        {
          "output_type": "stream",
          "name": "stdout",
          "text": [
            "[2, 4, 60, 8]\n"
          ]
        }
      ],
      "source": [
        "#replacing values\n",
        "b=[2,4,6,8]\n",
        "b[2]=60\n",
        "print(b)"
      ]
    },
    {
      "cell_type": "code",
      "source": [
        "c=[[3,7],[4,9],[8,10]]\n",
        "c[1][1]=95\n",
        "print(c)"
      ],
      "metadata": {
        "colab": {
          "base_uri": "https://localhost:8080/"
        },
        "id": "r7MW-t1yC1Wd",
        "outputId": "43a73f26-6841-46d6-f763-054f48aceacb"
      },
      "execution_count": 3,
      "outputs": [
        {
          "output_type": "stream",
          "name": "stdout",
          "text": [
            "[[3, 7], [4, 95], [8, 10]]\n"
          ]
        }
      ]
    },
    {
      "cell_type": "code",
      "source": [
        "d=[[1,2,3],[4,5,6],[7,8,9],[10,11,12],[13,14,15]]\n",
        "print(\"Rows= \",len(d))\n",
        "print(\"Cols= \",len(d[0]))"
      ],
      "metadata": {
        "colab": {
          "base_uri": "https://localhost:8080/"
        },
        "id": "M4Qfjo9rDZzu",
        "outputId": "544076f8-56c4-40fb-f4ce-67090dc5327a"
      },
      "execution_count": 5,
      "outputs": [
        {
          "output_type": "stream",
          "name": "stdout",
          "text": [
            "Rows=  5\n",
            "Cols=  3\n"
          ]
        }
      ]
    },
    {
      "cell_type": "code",
      "source": [
        "y=[[0 for c in range(3)] for c in range(7)]\n",
        "print(y)"
      ],
      "metadata": {
        "colab": {
          "base_uri": "https://localhost:8080/"
        },
        "id": "dm9l4S3qEjpf",
        "outputId": "148d4297-3fe3-458c-97a0-92ac80100c4d"
      },
      "execution_count": 9,
      "outputs": [
        {
          "output_type": "stream",
          "name": "stdout",
          "text": [
            "[[0, 0, 0], [0, 0, 0], [0, 0, 0], [0, 0, 0], [0, 0, 0], [0, 0, 0], [0, 0, 0]]\n"
          ]
        }
      ]
    },
    {
      "cell_type": "code",
      "source": [
        "Row = int(input(\"Enter the number of rows:\"))\n",
        "Column = int(input(\"Enter the number of columns:\"))\n",
        "\n",
        "# Initialize matrix\n",
        "matrix = []\n",
        "print(\"Enter the entries row wise:\")\n",
        "\n",
        "for row in range(Row):\n",
        "    a = []\n",
        "\n",
        "    for column in range(Column):\n",
        "        a.append(int(input()))\n",
        "    matrix.append(a)\n",
        "\n",
        "# For printing the matrix\n",
        "for row in range(Row):\n",
        "    for column in range(Column):\n",
        "        print(matrix[row][column], end=\" \")\n",
        "    print()\n"
      ],
      "metadata": {
        "colab": {
          "base_uri": "https://localhost:8080/"
        },
        "id": "KebltmcRHq8Z",
        "outputId": "558627a2-7880-409f-dedd-0e1475446023"
      },
      "execution_count": 11,
      "outputs": [
        {
          "output_type": "stream",
          "name": "stdout",
          "text": [
            "Enter no of rows: 3\n",
            "Enter no of cols: 2\n",
            "1\n",
            "2\n",
            "3\n",
            "[[1, 2, 3], [1, 2, 3], [1, 2, 3]]\n"
          ]
        }
      ]
    },
    {
      "cell_type": "code",
      "source": [
        "row=int(input(\"Enter no of rows: \"))\n",
        "col=int(input(\"Enter no of cols: \"))\n",
        "y=[[0 for c in range(col)] for c in range(row)]\n",
        "for i in range(row):\n",
        "  for j in range(col):\n",
        "    y[i][j]=int(input())\n",
        "print(\"The matrix is:\")\n",
        "for i in range(row):\n",
        "  for j in range(col):\n",
        "    print(y[i][j],end=\"   \")\n",
        "  print()"
      ],
      "metadata": {
        "colab": {
          "base_uri": "https://localhost:8080/"
        },
        "id": "wf-bbHejKi0D",
        "outputId": "9c585f67-e3ca-4c55-f28f-41360f498c0e"
      },
      "execution_count": 15,
      "outputs": [
        {
          "output_type": "stream",
          "name": "stdout",
          "text": [
            "Enter no of rows: 3\n",
            "Enter no of cols: 3\n",
            "1\n",
            "2\n",
            "3\n",
            "4\n",
            "5\n",
            "6\n",
            "7\n",
            "8\n",
            "9\n",
            "The matrix is:\n",
            "1   2   3   \n",
            "4   5   6   \n",
            "7   8   9   \n"
          ]
        }
      ]
    },
    {
      "cell_type": "code",
      "source": [
        "#User defined function for matrix creation\n",
        "def createMatrix(row,col):\n",
        "  y=[[0 for c in range(col)] for c in range(row)]\n",
        "  for i in range(row):\n",
        "    for j in range(col):\n",
        "      y[i][j]=int(input(\"Enter the matrix element:\"))\n",
        "\n",
        "#Input rows and colums\n",
        "row=int(input(\"Enter no of rows: \"))\n",
        "col=int(input(\"Enter no of cols: \"))\n",
        "createMatrix(row,col)\n",
        "\n",
        "#Printing the matrix\n",
        "print(\"The matrix is:\")\n",
        "for i in range(row):\n",
        "  for j in range(col):\n",
        "    print(y[i][j],end=\"   \")\n",
        "  print()"
      ],
      "metadata": {
        "colab": {
          "base_uri": "https://localhost:8080/"
        },
        "id": "upgOublyLa7j",
        "outputId": "46ef72f7-69e5-40c5-c9b8-27cf4adeb224"
      },
      "execution_count": 17,
      "outputs": [
        {
          "output_type": "stream",
          "name": "stdout",
          "text": [
            "Enter no of rows: 3\n",
            "Enter no of cols: 3\n",
            "Enter the matrix element:1\n",
            "Enter the matrix element:2\n",
            "Enter the matrix element:3\n",
            "Enter the matrix element:4\n",
            "Enter the matrix element:5\n",
            "Enter the matrix element:6\n",
            "Enter the matrix element:7\n",
            "Enter the matrix element:8\n",
            "Enter the matrix element:9\n",
            "The matrix is:\n",
            "1   2   3   \n",
            "4   5   6   \n",
            "7   8   9   \n"
          ]
        }
      ]
    },
    {
      "source": [
        "#Matrix addition\n",
        "#creating matrix\n",
        "def createMatrix(row,col):\n",
        "  y=[[0 for c in range(col)] for c in range(row)]\n",
        "  for i in range(row):\n",
        "    for j in range(col):\n",
        "      y[i][j]=int(input(\"Enter the matrix element:\"))\n",
        "  return y\n",
        "\n",
        "#Input rows and colums of Mat A\n",
        "row1=int(input(\"Enter no of rows of Mat A: \"))\n",
        "col1=int(input(\"Enter no of cols of Mat A: \"))\n",
        "MatA=createMatrix(row1,col1)\n",
        "\n",
        "#Input rows and colums of Mat B\n",
        "row2=int(input(\"Enter no of rows of Mat B: \"))\n",
        "col2=int(input(\"Enter no of cols of Mat B: \"))\n",
        "MatB=createMatrix(row2,col2)\n",
        "\n",
        "# Initialize MatC with zeros\n",
        "if(row1==row2 and col1==col2):\n",
        "  MatC = [[0 for i in range(col1)] for i in range(row1)]\n",
        "  for i in range(row1):\n",
        "    for j in range(col1):\n",
        "      MatC[i][j]=MatA[i][j]+MatB[i][j]\n",
        "else:\n",
        "  print(\"Addition not possible\")\n",
        "\n",
        "print(\"The Addition Matrix is:\")\n",
        "for i in range(row1):\n",
        "  for j in range(col1):\n",
        "    print(MatC[i][j],end=\"   \")\n",
        "  print()"
      ],
      "cell_type": "code",
      "metadata": {
        "colab": {
          "base_uri": "https://localhost:8080/"
        },
        "id": "GSvdT8nkSRBh",
        "outputId": "ce72b7fb-fdb5-4aa6-ead1-2aac0080a345"
      },
      "execution_count": 20,
      "outputs": [
        {
          "output_type": "stream",
          "name": "stdout",
          "text": [
            "Enter no of rows of Mat A: 2\n",
            "Enter no of cols of Mat A: 2\n",
            "Enter the matrix element:1\n",
            "Enter the matrix element:2\n",
            "Enter the matrix element:3\n",
            "Enter the matrix element:4\n",
            "Enter no of rows of Mat B: 2\n",
            "Enter no of cols of Mat B: 2\n",
            "Enter the matrix element:1\n",
            "Enter the matrix element:2\n",
            "Enter the matrix element:3\n",
            "Enter the matrix element:4\n",
            "The matrix is:\n",
            "2   4   \n",
            "6   8   \n"
          ]
        }
      ]
    },
    {
      "cell_type": "code",
      "source": [
        "#Matrix substraction\n",
        "#creating matrix\n",
        "def createMatrix(row,col):\n",
        "  y=[[0 for c in range(col)] for c in range(row)]\n",
        "  for i in range(row):\n",
        "    for j in range(col):\n",
        "      y[i][j]=int(input(\"Enter the matrix element:\"))\n",
        "  return y\n",
        "\n",
        "#Input rows and colums of Mat A\n",
        "row1=int(input(\"Enter no of rows of Mat A: \"))\n",
        "col1=int(input(\"Enter no of cols of Mat A: \"))\n",
        "print()\n",
        "MatA=createMatrix(row1,col1)\n",
        "print()\n",
        "#Input rows and colums of Mat B\n",
        "row2=int(input(\"Enter no of rows of Mat B: \"))\n",
        "col2=int(input(\"Enter no of cols of Mat B: \"))\n",
        "print()\n",
        "MatB=createMatrix(row2,col2)\n",
        "print()\n",
        "# Initialize MatC with zeros\n",
        "if(row1==row2 and col1==col2):\n",
        "  MatC = [[0 for i in range(col1)] for i in range(row1)]\n",
        "  for i in range(row1):\n",
        "    for j in range(col1):\n",
        "      MatC[i][j]=MatA[i][j]-MatB[i][j]\n",
        "else:\n",
        "  print(\"Substraction possible\")\n",
        "print()\n",
        "print(\"The Difference Matrix is:\")\n",
        "for i in range(row1):\n",
        "  for j in range(col1):\n",
        "    print(MatC[i][j],end=\"   \")\n",
        "  print()"
      ],
      "metadata": {
        "colab": {
          "base_uri": "https://localhost:8080/"
        },
        "id": "4blonn_eR5Bn",
        "outputId": "e2c589d1-fd3a-4725-f117-536324198586"
      },
      "execution_count": 23,
      "outputs": [
        {
          "output_type": "stream",
          "name": "stdout",
          "text": [
            "Enter no of rows of Mat A: 2\n",
            "Enter no of cols of Mat A: 2\n",
            "\n",
            "Enter the matrix element:1\n",
            "Enter the matrix element:2\n",
            "Enter the matrix element:3\n",
            "Enter the matrix element:4\n",
            "\n",
            "Enter no of rows of Mat B: 2\n",
            "Enter no of cols of Mat B: 2\n",
            "\n",
            "Enter the matrix element:1\n",
            "Enter the matrix element:2\n",
            "Enter the matrix element:3\n",
            "Enter the matrix element:4\n",
            "\n",
            "\n",
            "The Difference Matrix is:\n",
            "0   0   \n",
            "0   0   \n"
          ]
        }
      ]
    },
    {
      "cell_type": "code",
      "source": [
        "#Matrix Multiplication\n",
        "#creating matrix\n",
        "def createMatrix(row,col):\n",
        "  y=[[0 for c in range(col)] for c in range(row)]\n",
        "  for i in range(row):\n",
        "    for j in range(col):\n",
        "      y[i][j]=int(input(\"Enter the matrix element:\"))\n",
        "  return y\n",
        "\n",
        "#Input rows and colums of Mat A\n",
        "row1=int(input(\"Enter no of rows of Mat A: \"))\n",
        "col1=int(input(\"Enter no of cols of Mat A: \"))\n",
        "print()\n",
        "MatA=createMatrix(row1,col1)\n",
        "print()\n",
        "#Input rows and colums of Mat B\n",
        "row2=int(input(\"Enter no of rows of Mat B: \"))\n",
        "col2=int(input(\"Enter no of cols of Mat B: \"))\n",
        "print()\n",
        "MatB=createMatrix(row2,col2)\n",
        "print()\n",
        "# Initialize MatC with zeros\n",
        "if(col1==row2):\n",
        "  MatC = [[0 for i in range(col1)] for i in range(row1)]\n",
        "  for i in range(row1):\n",
        "    for j in range(col2):\n",
        "      for k in range(row2):\n",
        "        MatC[i][j]=MatC[i][j]+MatA[i][j]*MatB[i][j]\n",
        "else:\n",
        "  print(\"Multiplication not possible\")\n",
        "print()\n",
        "print(\"The Multiplied Matrix is:\")\n",
        "for i in range(row1):\n",
        "  for j in range(col2):\n",
        "    print(MatC[i][j],end=\"   \")\n",
        "  print()"
      ],
      "metadata": {
        "colab": {
          "base_uri": "https://localhost:8080/"
        },
        "id": "Os7zl4T2TgBz",
        "outputId": "7baebff5-1c3d-4c69-a6cb-c219ed04e669"
      },
      "execution_count": 24,
      "outputs": [
        {
          "output_type": "stream",
          "name": "stdout",
          "text": [
            "Enter no of rows of Mat A: 2\n",
            "Enter no of cols of Mat A: 2\n",
            "\n",
            "Enter the matrix element:2\n",
            "Enter the matrix element:1\n",
            "Enter the matrix element:3\n",
            "Enter the matrix element:4\n",
            "\n",
            "Enter no of rows of Mat B: 2\n",
            "Enter no of cols of Mat B: 2\n",
            "\n",
            "Enter the matrix element:2\n",
            "Enter the matrix element:1\n",
            "Enter the matrix element:3\n",
            "Enter the matrix element:4\n",
            "\n",
            "\n",
            "The Multiplied Matrix is:\n",
            "8   2   \n",
            "18   32   \n"
          ]
        }
      ]
    },
    {
      "cell_type": "code",
      "source": [
        "#Matrix substraction\n",
        "#creating matrix\n",
        "def createMatrix(row,col):\n",
        "  y=[[0 for c in range(col)] for c in range(row)]\n",
        "  for i in range(row):\n",
        "    for j in range(col):\n",
        "      y[i][j]=int(input(\"Enter the matrix element:\"))\n",
        "  return y\n",
        "\n",
        "#Input rows and colums of Mat A\n",
        "row1=int(input(\"Enter no of rows of Mat A: \"))\n",
        "col1=int(input(\"Enter no of cols of Mat A: \"))\n",
        "print()\n",
        "MatA=createMatrix(row1,col1)\n",
        "print()\n",
        "\n",
        "#Printing\n",
        "print(\"The Transpose of the given matrix is:\")\n",
        "for i in range(row1):\n",
        "  for j in range(col1):\n",
        "    print(MatA[j][i],end=\"   \")\n",
        "  print()"
      ],
      "metadata": {
        "colab": {
          "base_uri": "https://localhost:8080/"
        },
        "id": "Nbh-s5lKU4ZE",
        "outputId": "e0cb7390-04f3-44b7-a3c7-bedff877c0a8"
      },
      "execution_count": 30,
      "outputs": [
        {
          "output_type": "stream",
          "name": "stdout",
          "text": [
            "Enter no of rows of Mat A: 2\n",
            "Enter no of cols of Mat A: 2\n",
            "\n",
            "Enter the matrix element:1\n",
            "Enter the matrix element:2\n",
            "Enter the matrix element:3\n",
            "Enter the matrix element:4\n",
            "\n",
            "The Transpose of the given matrix is:\n",
            "1   3   \n",
            "2   4   \n"
          ]
        }
      ]
    },
    {
      "cell_type": "code",
      "source": [],
      "metadata": {
        "id": "K0gIN2swVayF"
      },
      "execution_count": null,
      "outputs": []
    }
  ]
}