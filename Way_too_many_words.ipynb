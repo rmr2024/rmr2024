{
  "nbformat": 4,
  "nbformat_minor": 0,
  "metadata": {
    "colab": {
      "provenance": []
    },
    "kernelspec": {
      "name": "python3",
      "display_name": "Python 3"
    },
    "language_info": {
      "name": "python"
    }
  },
  "cells": [
    {
      "cell_type": "code",
      "execution_count": 1,
      "metadata": {
        "colab": {
          "base_uri": "https://localhost:8080/"
        },
        "id": "lsV8f28sGC95",
        "outputId": "15617b0f-27f1-4b19-bb84-be6d6175e63e"
      },
      "outputs": [
        {
          "output_type": "stream",
          "name": "stdout",
          "text": [
            "Enter the Word:abcrxynadc\n",
            "NOT POSSIBLE\n"
          ]
        }
      ],
      "source": [
        "w=input(\"Enter the Word:\")\n",
        "if len(w)>10:\n",
        "    print(w[0]+str(len(w)-2)+w[len(w)-1])\n",
        "else:\n",
        "    print(\"NOT POSSIBLE\")"
      ]
    },
    {
      "cell_type": "code",
      "source": [],
      "metadata": {
        "id": "OLe9YFyfGGEn"
      },
      "execution_count": null,
      "outputs": []
    }
  ]
}