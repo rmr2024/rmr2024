{
  "nbformat": 4,
  "nbformat_minor": 0,
  "metadata": {
    "colab": {
      "provenance": []
    },
    "kernelspec": {
      "name": "python3",
      "display_name": "Python 3"
    },
    "language_info": {
      "name": "python"
    }
  },
  "cells": [
    {
      "cell_type": "code",
      "execution_count": null,
      "metadata": {
        "id": "Grjq0NrPFzty"
      },
      "outputs": [],
      "source": [
        "w=int(input(\"Enter Weight of Watermelon:\"))\n",
        "if w%2==0:\n",
        "    print(\"YES\")\n",
        "else:\n",
        "    print(\"NO\")\n",
        "\n",
        "OUTPUT:\n",
        "Enter Weight of Watermelon:6\n",
        "YES"
      ]
    }
  ]
}