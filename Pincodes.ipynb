{
  "nbformat": 4,
  "nbformat_minor": 0,
  "metadata": {
    "colab": {
      "provenance": []
    },
    "kernelspec": {
      "name": "python3",
      "display_name": "Python 3"
    },
    "language_info": {
      "name": "python"
    }
  },
  "cells": [
    {
      "cell_type": "code",
      "execution_count": 2,
      "metadata": {
        "colab": {
          "base_uri": "https://localhost:8080/"
        },
        "id": "h20zGQ1QFTwS",
        "outputId": "dabd29da-04ed-4a41-965f-1f46e66ece47"
      },
      "outputs": [
        {
          "output_type": "stream",
          "name": "stdout",
          "text": [
            "Enter Address:abc lane 700001\n",
            "700001\n"
          ]
        }
      ],
      "source": [
        "import re\n",
        "\n",
        "def extract_pin_code(address):\n",
        "    # Define a pattern for a valid Indian PIN code\n",
        "    pattern = r'\\b[1-9]\\d{5}\\b|\\b[1-9]\\d{2} \\d{3}\\b'\n",
        "\n",
        "    # Find the first match\n",
        "    match = re.search(pattern, address)\n",
        "\n",
        "    if match:\n",
        "        return match.group().replace(\" \", \"\")  # Remove space if present\n",
        "    else:\n",
        "        return \"-1\"\n",
        "\n",
        "# Example input\n",
        "address = input(\"Enter Address:\")\n",
        "print(extract_pin_code(address))"
      ]
    },
    {
      "cell_type": "code",
      "source": [],
      "metadata": {
        "id": "sM9XGffzFV4J"
      },
      "execution_count": null,
      "outputs": []
    }
  ]
}