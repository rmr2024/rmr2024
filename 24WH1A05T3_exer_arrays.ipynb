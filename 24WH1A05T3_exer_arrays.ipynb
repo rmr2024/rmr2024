{
  "nbformat": 4,
  "nbformat_minor": 0,
  "metadata": {
    "colab": {
      "provenance": [],
      "authorship_tag": "ABX9TyOkwD7OkmuqlyCRsK/QTClf",
      "include_colab_link": true
    },
    "kernelspec": {
      "name": "python3",
      "display_name": "Python 3"
    },
    "language_info": {
      "name": "python"
    }
  },
  "cells": [
    {
      "cell_type": "markdown",
      "metadata": {
        "id": "view-in-github",
        "colab_type": "text"
      },
      "source": [
        "<a href=\"https://colab.research.google.com/github/rmr2024/rmr2024/blob/main/24WH1A05T3_exer_arrays.ipynb\" target=\"_parent\"><img src=\"https://colab.research.google.com/assets/colab-badge.svg\" alt=\"Open In Colab\"/></a>"
      ]
    },
    {
      "cell_type": "markdown",
      "source": [
        "1. Write a program to find the minimum element from a list of elements along with its index in the list.\n",
        "2. Write  a program to calculate mean of given list of numbers.\n",
        "3. Write a program to search for an element in a given list of elements.\n",
        "4. Write a program to frequency of a given element in a list of numbers.\n",
        "5. Write a program to find frequency of all elements of a list also print the list of unique elements and duplicate the elements in the given list."
      ],
      "metadata": {
        "id": "XSeBPKnp6oDB"
      }
    },
    {
      "cell_type": "code",
      "source": [
        "#Write a program to find the minimum element from a list of elements along with its index in the list\n",
        "l1=[int(num) for num in input(\"Enter the elements separated by spaces: \").split()]\n",
        "min=l1[0]\n",
        "index=0\n",
        "for i in range(1,len(l1)):\n",
        "  if(l1[i]<min) :\n",
        "    min=l1[i]\n",
        "    index=i\n",
        "print(\"Minimum value: \",min,\" Minimum index: \",index)"
      ],
      "metadata": {
        "colab": {
          "base_uri": "https://localhost:8080/"
        },
        "id": "BHwjNaxlR3gV",
        "outputId": "5bbb0cf8-9b71-40f0-a2ef-2bfe3c52dcbe"
      },
      "execution_count": null,
      "outputs": [
        {
          "output_type": "stream",
          "name": "stdout",
          "text": [
            "Enter the elements separated by spaces: 22 44 77 33 1\n",
            "Minimum value:  1  Minimum index:  4\n"
          ]
        }
      ]
    },
    {
      "cell_type": "code",
      "source": [
        "#Write a program to find the minimum element from a list of elements along with its index in the list\n",
        "l1=[int(num) for num in input(\"Enter the elements separated by spaces: \").split()]\n",
        "sum=0\n",
        "mean=0\n",
        "for i in range(len(l1)):\n",
        "  sum=sum+l1[i]\n",
        "mean=sum/len(l1)\n",
        "print(\"Mean of the given list is: \",mean)"
      ],
      "metadata": {
        "colab": {
          "base_uri": "https://localhost:8080/"
        },
        "id": "-W5rVEpyTggN",
        "outputId": "71404c7f-01f3-40f8-b7a7-19157d409262"
      },
      "execution_count": null,
      "outputs": [
        {
          "output_type": "stream",
          "name": "stdout",
          "text": [
            "Enter the elements separated by spaces: 12 43 65 87\n",
            "Mean of the given list is:  51.75\n"
          ]
        }
      ]
    },
    {
      "cell_type": "code",
      "source": [
        "#Write a program to search for an element in a given list of elements.\n",
        "l1=[int(num) for num in input(\"Enter the elements separated by spaces: \").split()]\n",
        "key=int(input(\"Enter the key: \"))\n",
        "for i in range(1,len(l1)):\n",
        "  if(l1[i]==key):\n",
        "    print(\"key: \",key,\" found at index: \",i+1)\n",
        "    break"
      ],
      "metadata": {
        "colab": {
          "base_uri": "https://localhost:8080/"
        },
        "id": "rCddVpz5T-xF",
        "outputId": "145628ff-2e42-4522-cace-cdc701feb2cc"
      },
      "execution_count": null,
      "outputs": [
        {
          "output_type": "stream",
          "name": "stdout",
          "text": [
            "Enter the elements separated by spaces: 12 34 56 88 66\n",
            "Enter the key: 66\n",
            "key:  66  found at index:  5\n"
          ]
        }
      ]
    },
    {
      "cell_type": "code",
      "source": [
        "#Write a program to frequency of a given element in a list of numbers.\n",
        "l1=[int(num) for num in input(\"Enter the elements separated by spaces: \").split()]\n",
        "key=int(input(\"Enter the key: \"))\n",
        "counter=0\n",
        "for i in range(1,len(l1)):\n",
        "  if(l1[i]==key):\n",
        "    counter+=1\n",
        "print(\"The frequency of the given element is: \",counter)"
      ],
      "metadata": {
        "colab": {
          "base_uri": "https://localhost:8080/"
        },
        "id": "yzqhPW9aVnQG",
        "outputId": "d8c0deb5-686a-4bcf-dcde-5e65269389d2"
      },
      "execution_count": null,
      "outputs": [
        {
          "output_type": "stream",
          "name": "stdout",
          "text": [
            "Enter the elements separated by spaces: 111 22 44 55 44 66 44 77 44\n",
            "Enter the key: 44\n",
            "The frequency of the given element is:  4\n"
          ]
        }
      ]
    },
    {
      "cell_type": "code",
      "source": [
        "#Write a program to find frequency of all elements of a list also print the list of unique elements and duplicate the elements in the given list.\n",
        "l1 = [int(num) for num in input(\"Enter the elements separated by spaces: \").split()]\n",
        "freq = {}\n",
        "for i in l1:\n",
        "  if i in freq:\n",
        "    freq[i] += 1\n",
        "  else:\n",
        "    freq[i] = 1\n",
        "print(\"Frequency of elements in the given list are: \", freq)\n",
        "unique=[]\n",
        "duplicate=[]\n",
        "for i in l1:\n",
        "  if l1.count(i) == 1:\n",
        "    unique.append(i)\n",
        "  elif i not in duplicate:\n",
        "    duplicate.append(i)\n",
        "print(\"Unique elements in the given list are: \", unique)\n",
        "print(\"Duplicate elements in the given list are: \", duplicate)"
      ],
      "metadata": {
        "colab": {
          "base_uri": "https://localhost:8080/"
        },
        "id": "bL_9FMsuiNX9",
        "outputId": "ae783af3-0d82-4d64-b2a6-abe6ff37e037"
      },
      "execution_count": null,
      "outputs": [
        {
          "output_type": "stream",
          "name": "stdout",
          "text": [
            "Enter the elements separated by spaces: 12 13 14 15 15 16 14 13 17 19 18 20\n",
            "Frequency of elements in the given list are:  {12: 1, 13: 2, 14: 2, 15: 2, 16: 1, 17: 1, 19: 1, 18: 1, 20: 1}\n"
          ]
        }
      ]
    },
    {
      "cell_type": "code",
      "source": [],
      "metadata": {
        "id": "f-gbHybVdfXf"
      },
      "execution_count": null,
      "outputs": []
    }
  ]
}