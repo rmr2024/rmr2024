{
  "nbformat": 4,
  "nbformat_minor": 0,
  "metadata": {
    "colab": {
      "provenance": [],
      "authorship_tag": "ABX9TyNlb8kpQL0ehtp0iaXWZkWf",
      "include_colab_link": true
    },
    "kernelspec": {
      "name": "python3",
      "display_name": "Python 3"
    },
    "language_info": {
      "name": "python"
    }
  },
  "cells": [
    {
      "cell_type": "markdown",
      "metadata": {
        "id": "view-in-github",
        "colab_type": "text"
      },
      "source": [
        "<a href=\"https://colab.research.google.com/github/rmr2024/rmr2024/blob/main/24WH1A05T3_exer_strings_.ipynb\" target=\"_parent\"><img src=\"https://colab.research.google.com/assets/colab-badge.svg\" alt=\"Open In Colab\"/></a>"
      ]
    },
    {
      "cell_type": "markdown",
      "source": [
        "1. Write a program that reads a line and prints its statistics like\n",
        "  * no of upper case letters.\n",
        "  * no of lower case letters.\n",
        "  * no of alphabtes.\n",
        "  * no of digits.\n",
        "2. Write a program that reads a line and a substring and should then display no of appearances of the substring in the line.\n",
        "3. Write a program that takes a string with multiple words and then capitalise the first letter of each word and forms a new string out of it.\n",
        "4. Write a program that reads a string and checks whether it is a palindrome or not.\n",
        "5. Write a program that reads a string and displays the longest substring of the given string having just the consonants.\n",
        "6. Write a program that reads a string and then prints the words that have been capitalised every other letter in the string.(Example: pAsSiOn)"
      ],
      "metadata": {
        "id": "Hy9emuA4poHv"
      }
    },
    {
      "cell_type": "code",
      "execution_count": null,
      "metadata": {
        "colab": {
          "base_uri": "https://localhost:8080/"
        },
        "id": "L3lJTg4FyNUi",
        "outputId": "ea199171-d5c6-4ccd-fd93-c604f9f3f360"
      },
      "outputs": [
        {
          "output_type": "stream",
          "name": "stdout",
          "text": [
            "Enter a string: Meenakshi Reddy R\n",
            "Upper case letters:  3\n",
            "Lower case letters:  12\n",
            "Alphabtes:  15\n",
            "Digits:  0\n"
          ]
        }
      ],
      "source": [
        "'''1. Write a program that reads a line and prints its statistics like\n",
        "no of upper case letters.\n",
        "no of lower case letters.\n",
        "no of alphabtes.\n",
        "no of digits.'''\n",
        "str1=input(\"Enter a string: \")\n",
        "upper,lower,alpha,digit=0,0,0,0\n",
        "for ch in str1:\n",
        "  if(ch.isupper()):\n",
        "    upper+=1\n",
        "  if(ch.islower()):\n",
        "    lower+=1\n",
        "  if(ch.isalpha()):\n",
        "    alpha+=1\n",
        "  if(ch.isdigit()):\n",
        "    digit+=1\n",
        "print(\"Upper case letters: \",upper)\n",
        "print(\"Lower case letters: \",lower)\n",
        "print(\"Alphabets: \",alpha)\n",
        "print(\"Digits: \",digit)\n"
      ]
    },
    {
      "cell_type": "code",
      "source": [
        "'''Write a program that reads a line and a substring and should then display no of appearances of the substring in the line.'''\n",
        "str2=input(\"Enter a string: \")\n",
        "sub=input(\"Enter a substring: \")\n",
        "count=str2.count(sub)\n",
        "print(\"The no of times \",sub,\" appears is: \",count)"
      ],
      "metadata": {
        "colab": {
          "base_uri": "https://localhost:8080/"
        },
        "id": "ImAYQ96iy9xn",
        "outputId": "099e7398-2013-444c-a50b-9a67628d53f2"
      },
      "execution_count": null,
      "outputs": [
        {
          "output_type": "stream",
          "name": "stdout",
          "text": [
            "Enter a string: jingle bells, jingle bells, jingle all the way\n",
            "Enter a substring: jingle\n",
            "The no of times  jingle  appears is:  3\n"
          ]
        }
      ]
    },
    {
      "cell_type": "code",
      "source": [
        "'''Write a program that takes a string with multiple words and then capitalise the first letter of each word and forms a new string out of it'''\n",
        "str3=input(\"Enter a string: \")\n",
        "str3=str3.title()\n",
        "print(str3)"
      ],
      "metadata": {
        "colab": {
          "base_uri": "https://localhost:8080/"
        },
        "id": "Pkqb4na-1KWy",
        "outputId": "e6f29b1a-891b-4a6f-a1d1-aac913e969da"
      },
      "execution_count": null,
      "outputs": [
        {
          "output_type": "stream",
          "name": "stdout",
          "text": [
            "Enter a string: abced eve ejsh\n",
            "Abced Eve Ejsh\n"
          ]
        }
      ]
    },
    {
      "cell_type": "code",
      "source": [
        "'''Write a program that reads a string and checks whether it is a palindrome or not.'''\n",
        "str4=input(\"Enter a string: \")\n",
        "if(str4==str4[::-1]):\n",
        "  print(\"The given string is a palindrome\")\n",
        "else:\n",
        "  print(\"The given string is not a palindrome\")"
      ],
      "metadata": {
        "colab": {
          "base_uri": "https://localhost:8080/"
        },
        "id": "-mDQZP802RQ4",
        "outputId": "db2faa92-e765-4b2d-d1e6-6a4e927301b6"
      },
      "execution_count": null,
      "outputs": [
        {
          "output_type": "stream",
          "name": "stdout",
          "text": [
            "Enter a string: racecar\n",
            "The given string is a palindrome\n"
          ]
        }
      ]
    },
    {
      "cell_type": "code",
      "source": [
        "'''Write a program that reads a string and displays the longest substring of the given string having just the consonants.'''\n",
        "def vowel(ch):\n",
        "  if ch==['a','e','i','o','u','A','E','I','O','U']\n",
        "    return True\n",
        "  else:\n",
        "    return False\n",
        "str5=input(\"Enter a string: \")\n",
        "str5=str5.()"
      ],
      "metadata": {
        "id": "OHQi8kJy2ZRH"
      },
      "execution_count": null,
      "outputs": []
    },
    {
      "cell_type": "code",
      "source": [
        "#Write a program that reads a string and then prints the words that have been capitalised every other letter in the string.(Example: pAsSiOn)\n",
        "str6 = input(\"Enter a string: \")\n",
        "words = str6.split()\n",
        "result = []\n",
        "for word in words:\n",
        "    new = \"\"\n",
        "    for i in range(len(word)):\n",
        "        if i % 2 == 0:\n",
        "            new += word[i].lower()\n",
        "        else:\n",
        "            new += word[i].upper()\n",
        "    result.append(new)\n",
        "print(result)\n",
        "\n"
      ],
      "metadata": {
        "colab": {
          "base_uri": "https://localhost:8080/"
        },
        "id": "3jHOo9heCIf_",
        "outputId": "a96419f4-a7cf-4804-dc19-adf987d2b7be"
      },
      "execution_count": null,
      "outputs": [
        {
          "output_type": "stream",
          "name": "stdout",
          "text": [
            "Enter a string: meenakshi\n",
            "['mEeNaKsHi']\n"
          ]
        }
      ]
    },
    {
      "cell_type": "code",
      "source": [],
      "metadata": {
        "id": "dxmXr4Q6o9ys"
      },
      "execution_count": null,
      "outputs": []
    }
  ]
}